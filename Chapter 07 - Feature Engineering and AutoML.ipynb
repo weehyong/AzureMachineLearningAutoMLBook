{
  "cells": [
    {
      "metadata": {},
      "cell_type": "markdown",
      "source": "# Chapter 07 - Feature Engineering and AutoML\n\nCode for the O'Reilly Book - Practical Automated Machine Learning on Azure\nby Deepak Mukunthu, Parashar Shah & Wee Hyong Tok"
    },
    {
      "metadata": {
        "ExecuteTime": {
          "start_time": "2019-06-24T20:59:28.821486Z",
          "end_time": "2019-06-24T20:59:31.169592Z"
        },
        "trusted": true
      },
      "cell_type": "code",
      "source": "# check the version of AzureML SDK\n# Note: Always good practice to check the version of AzureML SDK used in the notebook environment\n# AzureML SDK should be 1.0.43 or greater\nimport azureml.core\nprint(azureml.core.VERSION)",
      "execution_count": 1,
      "outputs": [
        {
          "output_type": "stream",
          "text": "1.0.43\n",
          "name": "stdout"
        }
      ]
    },
    {
      "metadata": {},
      "cell_type": "markdown",
      "source": "## 01 - Acquire and Prepare Data\nFor this notebook, we will use the NASA Prognostics Center's Turbo-Fan Failure dataset.  It is located here: https://ti.arc.nasa.gov/tech/dash/groups/pcoe/prognostic-data-repository/#turbofan"
    },
    {
      "metadata": {},
      "cell_type": "markdown",
      "source": "We have it as .txt file in the same folder. We read it into a Pandas DataFrame.\nNote the headers were not in the space seperated txt file, so we assign them from the ReadMe in the zip file. In pandas we use read_csv with the delimiter option, even with a space delimited file."
    },
    {
      "metadata": {
        "ExecuteTime": {
          "start_time": "2019-06-24T21:00:05.745702Z",
          "end_time": "2019-06-24T21:00:17.888009Z"
        },
        "trusted": true
      },
      "cell_type": "code",
      "source": "# Download the NASA Turbofan Engine Degradation Simulation Data Set\nimport requests, zipfile, io\n\nnasa_dataset_url = \"https://ti.arc.nasa.gov/c/6/\"\nr = requests.get(nasa_dataset_url)\n\nz = zipfile.ZipFile(io.BytesIO(r.content))\nz.extractall(\"data/\")",
      "execution_count": 8,
      "outputs": []
    },
    {
      "metadata": {
        "ExecuteTime": {
          "start_time": "2019-06-24T21:00:17.891536Z",
          "end_time": "2019-06-24T21:00:21.930683Z"
        },
        "trusted": true
      },
      "cell_type": "code",
      "source": "import pandas as pd\ntrain = pd.read_csv(\"data/train_FD004.txt\", delimiter=\"\\s|\\s\\s\", index_col=False, engine='python', \n                    names=['unit','cycle','os1','os2','os3','sm1','sm2','sm3','sm4','sm5','sm6','sm7','sm8','sm9','sm10',\n                           'sm11','sm12','sm13','sm14','sm15','sm16','sm17','sm18','sm19','sm20','sm21'])",
      "execution_count": 9,
      "outputs": []
    },
    {
      "metadata": {},
      "cell_type": "markdown",
      "source": "Let's explore the data"
    },
    {
      "metadata": {
        "ExecuteTime": {
          "start_time": "2019-06-24T21:00:21.937256Z",
          "end_time": "2019-06-24T21:00:21.992935Z"
        },
        "trusted": true
      },
      "cell_type": "code",
      "source": "train.head(5)",
      "execution_count": 10,
      "outputs": [
        {
          "output_type": "execute_result",
          "execution_count": 10,
          "data": {
            "text/html": "<div>\n<style scoped>\n    .dataframe tbody tr th:only-of-type {\n        vertical-align: middle;\n    }\n\n    .dataframe tbody tr th {\n        vertical-align: top;\n    }\n\n    .dataframe thead th {\n        text-align: right;\n    }\n</style>\n<table border=\"1\" class=\"dataframe\">\n  <thead>\n    <tr style=\"text-align: right;\">\n      <th></th>\n      <th>unit</th>\n      <th>cycle</th>\n      <th>os1</th>\n      <th>os2</th>\n      <th>os3</th>\n      <th>sm1</th>\n      <th>sm2</th>\n      <th>sm3</th>\n      <th>sm4</th>\n      <th>sm5</th>\n      <th>...</th>\n      <th>sm12</th>\n      <th>sm13</th>\n      <th>sm14</th>\n      <th>sm15</th>\n      <th>sm16</th>\n      <th>sm17</th>\n      <th>sm18</th>\n      <th>sm19</th>\n      <th>sm20</th>\n      <th>sm21</th>\n    </tr>\n  </thead>\n  <tbody>\n    <tr>\n      <th>0</th>\n      <td>1</td>\n      <td>1</td>\n      <td>42.0049</td>\n      <td>0.8400</td>\n      <td>100.0</td>\n      <td>445.00</td>\n      <td>549.68</td>\n      <td>1343.43</td>\n      <td>1112.93</td>\n      <td>3.91</td>\n      <td>...</td>\n      <td>129.78</td>\n      <td>2387.99</td>\n      <td>8074.83</td>\n      <td>9.3335</td>\n      <td>0.02</td>\n      <td>330</td>\n      <td>2212</td>\n      <td>100.00</td>\n      <td>10.62</td>\n      <td>6.3670</td>\n    </tr>\n    <tr>\n      <th>1</th>\n      <td>1</td>\n      <td>2</td>\n      <td>20.0020</td>\n      <td>0.7002</td>\n      <td>100.0</td>\n      <td>491.19</td>\n      <td>606.07</td>\n      <td>1477.61</td>\n      <td>1237.50</td>\n      <td>9.35</td>\n      <td>...</td>\n      <td>312.59</td>\n      <td>2387.73</td>\n      <td>8046.13</td>\n      <td>9.1913</td>\n      <td>0.02</td>\n      <td>361</td>\n      <td>2324</td>\n      <td>100.00</td>\n      <td>24.37</td>\n      <td>14.6552</td>\n    </tr>\n    <tr>\n      <th>2</th>\n      <td>1</td>\n      <td>3</td>\n      <td>42.0038</td>\n      <td>0.8409</td>\n      <td>100.0</td>\n      <td>445.00</td>\n      <td>548.95</td>\n      <td>1343.12</td>\n      <td>1117.05</td>\n      <td>3.91</td>\n      <td>...</td>\n      <td>129.62</td>\n      <td>2387.97</td>\n      <td>8066.62</td>\n      <td>9.4007</td>\n      <td>0.02</td>\n      <td>329</td>\n      <td>2212</td>\n      <td>100.00</td>\n      <td>10.48</td>\n      <td>6.4213</td>\n    </tr>\n    <tr>\n      <th>3</th>\n      <td>1</td>\n      <td>4</td>\n      <td>42.0000</td>\n      <td>0.8400</td>\n      <td>100.0</td>\n      <td>445.00</td>\n      <td>548.70</td>\n      <td>1341.24</td>\n      <td>1118.03</td>\n      <td>3.91</td>\n      <td>...</td>\n      <td>129.80</td>\n      <td>2388.02</td>\n      <td>8076.05</td>\n      <td>9.3369</td>\n      <td>0.02</td>\n      <td>328</td>\n      <td>2212</td>\n      <td>100.00</td>\n      <td>10.54</td>\n      <td>6.4176</td>\n    </tr>\n    <tr>\n      <th>4</th>\n      <td>1</td>\n      <td>5</td>\n      <td>25.0063</td>\n      <td>0.6207</td>\n      <td>60.0</td>\n      <td>462.54</td>\n      <td>536.10</td>\n      <td>1255.23</td>\n      <td>1033.59</td>\n      <td>7.05</td>\n      <td>...</td>\n      <td>164.11</td>\n      <td>2028.08</td>\n      <td>7865.80</td>\n      <td>10.8366</td>\n      <td>0.02</td>\n      <td>305</td>\n      <td>1915</td>\n      <td>84.93</td>\n      <td>14.03</td>\n      <td>8.6754</td>\n    </tr>\n  </tbody>\n</table>\n<p>5 rows × 26 columns</p>\n</div>",
            "text/plain": "   unit  cycle      os1     os2    os3     sm1     sm2      sm3      sm4  \\\n0     1      1  42.0049  0.8400  100.0  445.00  549.68  1343.43  1112.93   \n1     1      2  20.0020  0.7002  100.0  491.19  606.07  1477.61  1237.50   \n2     1      3  42.0038  0.8409  100.0  445.00  548.95  1343.12  1117.05   \n3     1      4  42.0000  0.8400  100.0  445.00  548.70  1341.24  1118.03   \n4     1      5  25.0063  0.6207   60.0  462.54  536.10  1255.23  1033.59   \n\n    sm5   ...       sm12     sm13     sm14     sm15  sm16  sm17  sm18    sm19  \\\n0  3.91   ...     129.78  2387.99  8074.83   9.3335  0.02   330  2212  100.00   \n1  9.35   ...     312.59  2387.73  8046.13   9.1913  0.02   361  2324  100.00   \n2  3.91   ...     129.62  2387.97  8066.62   9.4007  0.02   329  2212  100.00   \n3  3.91   ...     129.80  2388.02  8076.05   9.3369  0.02   328  2212  100.00   \n4  7.05   ...     164.11  2028.08  7865.80  10.8366  0.02   305  1915   84.93   \n\n    sm20     sm21  \n0  10.62   6.3670  \n1  24.37  14.6552  \n2  10.48   6.4213  \n3  10.54   6.4176  \n4  14.03   8.6754  \n\n[5 rows x 26 columns]"
          },
          "metadata": {}
        }
      ]
    },
    {
      "metadata": {},
      "cell_type": "markdown",
      "source": "Our dataset has a number of units in it, with each engine flight listed as a cycle. The cycles count up until the engine fails. What we would like to predict is the no. of cycles until failure. \nSo we need to calculate a new column called RUL, or Remaining Useful Life.  It will be the last cycle value minus each cycle value per unit."
    },
    {
      "metadata": {
        "ExecuteTime": {
          "start_time": "2019-06-24T21:00:21.996577Z",
          "end_time": "2019-06-24T21:00:22.773751Z"
        },
        "trusted": true
      },
      "cell_type": "code",
      "source": "# Assign ground truth\ndef assignrul(df):\n    maxi = df['cycle'].max()\n    df['rul'] = maxi - df['cycle']\n    return df\n    \n\ntrain_new = train.groupby('unit').apply(assignrul)\n\ntrain_new.columns",
      "execution_count": 11,
      "outputs": [
        {
          "output_type": "execute_result",
          "execution_count": 11,
          "data": {
            "text/plain": "Index(['unit', 'cycle', 'os1', 'os2', 'os3', 'sm1', 'sm2', 'sm3', 'sm4', 'sm5',\n       'sm6', 'sm7', 'sm8', 'sm9', 'sm10', 'sm11', 'sm12', 'sm13', 'sm14',\n       'sm15', 'sm16', 'sm17', 'sm18', 'sm19', 'sm20', 'sm21', 'rul'],\n      dtype='object')"
          },
          "metadata": {}
        }
      ]
    },
    {
      "metadata": {},
      "cell_type": "markdown",
      "source": "Now our dataframe has the 'RUL' column.  Predicting this value will be the objective of this exercise."
    },
    {
      "metadata": {
        "ExecuteTime": {
          "start_time": "2019-06-24T21:00:22.777335Z",
          "end_time": "2019-06-24T21:00:22.814548Z"
        },
        "trusted": true
      },
      "cell_type": "code",
      "source": "train_new.head(5)",
      "execution_count": 12,
      "outputs": [
        {
          "output_type": "execute_result",
          "execution_count": 12,
          "data": {
            "text/html": "<div>\n<style scoped>\n    .dataframe tbody tr th:only-of-type {\n        vertical-align: middle;\n    }\n\n    .dataframe tbody tr th {\n        vertical-align: top;\n    }\n\n    .dataframe thead th {\n        text-align: right;\n    }\n</style>\n<table border=\"1\" class=\"dataframe\">\n  <thead>\n    <tr style=\"text-align: right;\">\n      <th></th>\n      <th>unit</th>\n      <th>cycle</th>\n      <th>os1</th>\n      <th>os2</th>\n      <th>os3</th>\n      <th>sm1</th>\n      <th>sm2</th>\n      <th>sm3</th>\n      <th>sm4</th>\n      <th>sm5</th>\n      <th>...</th>\n      <th>sm13</th>\n      <th>sm14</th>\n      <th>sm15</th>\n      <th>sm16</th>\n      <th>sm17</th>\n      <th>sm18</th>\n      <th>sm19</th>\n      <th>sm20</th>\n      <th>sm21</th>\n      <th>rul</th>\n    </tr>\n  </thead>\n  <tbody>\n    <tr>\n      <th>0</th>\n      <td>1</td>\n      <td>1</td>\n      <td>42.0049</td>\n      <td>0.8400</td>\n      <td>100.0</td>\n      <td>445.00</td>\n      <td>549.68</td>\n      <td>1343.43</td>\n      <td>1112.93</td>\n      <td>3.91</td>\n      <td>...</td>\n      <td>2387.99</td>\n      <td>8074.83</td>\n      <td>9.3335</td>\n      <td>0.02</td>\n      <td>330</td>\n      <td>2212</td>\n      <td>100.00</td>\n      <td>10.62</td>\n      <td>6.3670</td>\n      <td>320</td>\n    </tr>\n    <tr>\n      <th>1</th>\n      <td>1</td>\n      <td>2</td>\n      <td>20.0020</td>\n      <td>0.7002</td>\n      <td>100.0</td>\n      <td>491.19</td>\n      <td>606.07</td>\n      <td>1477.61</td>\n      <td>1237.50</td>\n      <td>9.35</td>\n      <td>...</td>\n      <td>2387.73</td>\n      <td>8046.13</td>\n      <td>9.1913</td>\n      <td>0.02</td>\n      <td>361</td>\n      <td>2324</td>\n      <td>100.00</td>\n      <td>24.37</td>\n      <td>14.6552</td>\n      <td>319</td>\n    </tr>\n    <tr>\n      <th>2</th>\n      <td>1</td>\n      <td>3</td>\n      <td>42.0038</td>\n      <td>0.8409</td>\n      <td>100.0</td>\n      <td>445.00</td>\n      <td>548.95</td>\n      <td>1343.12</td>\n      <td>1117.05</td>\n      <td>3.91</td>\n      <td>...</td>\n      <td>2387.97</td>\n      <td>8066.62</td>\n      <td>9.4007</td>\n      <td>0.02</td>\n      <td>329</td>\n      <td>2212</td>\n      <td>100.00</td>\n      <td>10.48</td>\n      <td>6.4213</td>\n      <td>318</td>\n    </tr>\n    <tr>\n      <th>3</th>\n      <td>1</td>\n      <td>4</td>\n      <td>42.0000</td>\n      <td>0.8400</td>\n      <td>100.0</td>\n      <td>445.00</td>\n      <td>548.70</td>\n      <td>1341.24</td>\n      <td>1118.03</td>\n      <td>3.91</td>\n      <td>...</td>\n      <td>2388.02</td>\n      <td>8076.05</td>\n      <td>9.3369</td>\n      <td>0.02</td>\n      <td>328</td>\n      <td>2212</td>\n      <td>100.00</td>\n      <td>10.54</td>\n      <td>6.4176</td>\n      <td>317</td>\n    </tr>\n    <tr>\n      <th>4</th>\n      <td>1</td>\n      <td>5</td>\n      <td>25.0063</td>\n      <td>0.6207</td>\n      <td>60.0</td>\n      <td>462.54</td>\n      <td>536.10</td>\n      <td>1255.23</td>\n      <td>1033.59</td>\n      <td>7.05</td>\n      <td>...</td>\n      <td>2028.08</td>\n      <td>7865.80</td>\n      <td>10.8366</td>\n      <td>0.02</td>\n      <td>305</td>\n      <td>1915</td>\n      <td>84.93</td>\n      <td>14.03</td>\n      <td>8.6754</td>\n      <td>316</td>\n    </tr>\n  </tbody>\n</table>\n<p>5 rows × 27 columns</p>\n</div>",
            "text/plain": "   unit  cycle      os1     os2    os3     sm1     sm2      sm3      sm4  \\\n0     1      1  42.0049  0.8400  100.0  445.00  549.68  1343.43  1112.93   \n1     1      2  20.0020  0.7002  100.0  491.19  606.07  1477.61  1237.50   \n2     1      3  42.0038  0.8409  100.0  445.00  548.95  1343.12  1117.05   \n3     1      4  42.0000  0.8400  100.0  445.00  548.70  1341.24  1118.03   \n4     1      5  25.0063  0.6207   60.0  462.54  536.10  1255.23  1033.59   \n\n    sm5 ...      sm13     sm14     sm15  sm16  sm17  sm18    sm19   sm20  \\\n0  3.91 ...   2387.99  8074.83   9.3335  0.02   330  2212  100.00  10.62   \n1  9.35 ...   2387.73  8046.13   9.1913  0.02   361  2324  100.00  24.37   \n2  3.91 ...   2387.97  8066.62   9.4007  0.02   329  2212  100.00  10.48   \n3  3.91 ...   2388.02  8076.05   9.3369  0.02   328  2212  100.00  10.54   \n4  7.05 ...   2028.08  7865.80  10.8366  0.02   305  1915   84.93  14.03   \n\n      sm21  rul  \n0   6.3670  320  \n1  14.6552  319  \n2   6.4213  318  \n3   6.4176  317  \n4   8.6754  316  \n\n[5 rows x 27 columns]"
          },
          "metadata": {}
        }
      ]
    },
    {
      "metadata": {},
      "cell_type": "markdown",
      "source": "First note that the sensor measurements do seem to be changing as we near 0 RUL. This implies that we should be able to make a model that will be useful enough for business value.\n\nWe are now ready to train a model on this data using Automated ML."
    },
    {
      "metadata": {
        "ExecuteTime": {
          "start_time": "2019-06-24T21:00:22.818491Z",
          "end_time": "2019-06-24T21:00:22.872871Z"
        },
        "trusted": true
      },
      "cell_type": "code",
      "source": "# put training data into X and Y arrays\nX_train = train_new.iloc[:,2:26].values\ny_train = train_new.iloc[:,26:27].values.astype(int).flatten()",
      "execution_count": 13,
      "outputs": []
    },
    {
      "metadata": {
        "ExecuteTime": {
          "start_time": "2019-06-24T21:00:22.875765Z",
          "end_time": "2019-06-24T21:00:23.507031Z"
        },
        "trusted": true
      },
      "cell_type": "code",
      "source": "# Split the dataset to train and test\nfrom sklearn.model_selection import train_test_split\nX_train, X_valid, y_train, y_valid = train_test_split(X_train,\n                                                    y_train,\n                                                    test_size=0.3,\n                                                    random_state=100)\n\nX_valid, X_test, y_valid, y_test = train_test_split(X_valid,\n                                                    y_valid,\n                                                    test_size=0.3,\n                                                    random_state=100)\n\nX_train = pd.DataFrame(X_train)\nX_valid = pd.DataFrame(X_valid)\nX_test = pd.DataFrame(X_test)",
      "execution_count": 14,
      "outputs": []
    },
    {
      "metadata": {},
      "cell_type": "markdown",
      "source": "## 02 - Prepare the Azure Machine Learning Workspace"
    },
    {
      "metadata": {},
      "cell_type": "markdown",
      "source": "Import Azure ML libs for automated ML"
    },
    {
      "metadata": {
        "trusted": true,
        "ExecuteTime": {
          "start_time": "2019-06-24T21:00:56.121769Z",
          "end_time": "2019-06-24T21:00:56.32548Z"
        }
      },
      "cell_type": "code",
      "source": "import logging\nimport os\nimport random\nimport time\n\nfrom matplotlib import pyplot as plt\nfrom matplotlib.pyplot import imshow\nimport numpy as np\nimport pandas as pd\n",
      "execution_count": 16,
      "outputs": []
    },
    {
      "metadata": {
        "ExecuteTime": {
          "start_time": "2019-06-24T21:00:56.396588Z",
          "end_time": "2019-06-24T21:00:58.683112Z"
        },
        "trusted": true
      },
      "cell_type": "code",
      "source": "import azureml.core\nfrom azureml.core.experiment import Experiment\nfrom azureml.core.workspace import Workspace\nfrom azureml.train.automl import AutoMLConfig\nfrom azureml.train.automl.run import AutoMLRun\nfrom azureml.widgets import RunDetails\nfrom azureml.core.model import Model",
      "execution_count": 17,
      "outputs": []
    },
    {
      "metadata": {},
      "cell_type": "markdown",
      "source": "Provide your Machine Learning Workspace credentials to run AutoML. You will need to perform Microsoft's MFA. Please follow the manual auth instructions."
    },
    {
      "metadata": {
        "trusted": true,
        "ExecuteTime": {
          "start_time": "2019-06-24T21:01:00.850893Z",
          "end_time": "2019-06-24T21:01:00.854242Z"
        }
      },
      "cell_type": "code",
      "source": "#subscription_id = \"<Your SubscriptionId>\" #you should be owner or contributor\n#resource_group = \"<Resource group - new or existing>\" #you should be owner or contributor\n#workspace_name = \"<workspace to be created>\" #your workspace name\n#workspace_region = \"<azureregion>\" #your region",
      "execution_count": 18,
      "outputs": []
    },
    {
      "metadata": {
        "ExecuteTime": {
          "start_time": "2019-06-24T21:02:04.414075Z",
          "end_time": "2019-06-24T21:02:04.422268Z"
        },
        "trusted": true
      },
      "cell_type": "code",
      "source": "# Subscription ID\nsubscription_id = \"<Your SubscriptionId>\" #you should be owner or contributor\nresource_group = \"automl_nasa_newrg\" #you should be owner or contributor\nworkspace_name = \"automatedml_nasa_aznb_ch07\" #your workspace name\nworkspace_region = \"West US 2\" #your region",
      "execution_count": 19,
      "outputs": []
    },
    {
      "metadata": {},
      "cell_type": "markdown",
      "source": "Create Azure ML workspace"
    },
    {
      "metadata": {
        "trusted": true,
        "ExecuteTime": {
          "start_time": "2019-06-24T21:02:09.819572Z",
          "end_time": "2019-06-24T21:02:10.987823Z"
        }
      },
      "cell_type": "code",
      "source": "# Import the Workspace class and check the Azure ML SDK version.\nfrom azureml.core import Workspace\n\nws = Workspace.create(name = workspace_name,\n                      subscription_id = subscription_id,\n                      resource_group = resource_group, \n                      location = workspace_region,                      \n                      exist_ok=True)\nws.get_details()",
      "execution_count": null,
      "outputs": []
    },
    {
      "metadata": {},
      "cell_type": "markdown",
      "source": "Write config to cluster"
    },
    {
      "metadata": {
        "trusted": true,
        "ExecuteTime": {
          "start_time": "2019-06-24T21:02:19.228485Z",
          "end_time": "2019-06-24T21:02:19.61221Z"
        }
      },
      "cell_type": "code",
      "source": "from azureml.core import Workspace\n\nws = Workspace(workspace_name = workspace_name,\n               subscription_id = subscription_id,\n               resource_group = resource_group)\n\n# Persist the subscription id, resource group name, and workspace name in aml_config/config.json.\nws.write_config()",
      "execution_count": 21,
      "outputs": []
    },
    {
      "metadata": {},
      "cell_type": "markdown",
      "source": "Define the experiment name"
    },
    {
      "metadata": {
        "trusted": true,
        "ExecuteTime": {
          "start_time": "2019-06-24T21:02:20.430362Z",
          "end_time": "2019-06-24T21:02:20.453662Z"
        }
      },
      "cell_type": "code",
      "source": "# Choose a name for the experiment and specify the project folder.\nexperiment_name = 'automl-predictive-rul-ch07'\nproject_folder = './ch07_projects/automl-feature-engineering'\n\nexperiment = Experiment(ws, experiment_name)\n\noutput = {}\noutput['SDK version'] = azureml.core.VERSION\noutput['Subscription ID'] = ws.subscription_id\noutput['Workspace Name'] = ws.name\noutput['Resource Group'] = ws.resource_group\noutput['Location'] = ws.location\noutput['Project Directory'] = project_folder\noutput['Experiment Name'] = experiment.name\npd.set_option('display.max_colwidth', -1)\npd.DataFrame(data = output, index = ['']).T",
      "execution_count": null,
      "outputs": []
    },
    {
      "metadata": {},
      "cell_type": "markdown",
      "source": "Enable Telemetry"
    },
    {
      "metadata": {
        "ExecuteTime": {
          "start_time": "2019-06-24T21:02:29.587962Z",
          "end_time": "2019-06-24T21:02:29.592011Z"
        },
        "trusted": true
      },
      "cell_type": "code",
      "source": "from azureml.telemetry import set_diagnostics_collection",
      "execution_count": 23,
      "outputs": []
    },
    {
      "metadata": {
        "ExecuteTime": {
          "start_time": "2019-06-24T21:02:30.167367Z",
          "end_time": "2019-06-24T21:02:30.177559Z"
        },
        "trusted": true
      },
      "cell_type": "code",
      "source": "set_diagnostics_collection(send_diagnostics = True)",
      "execution_count": 24,
      "outputs": [
        {
          "output_type": "stream",
          "text": "Turning diagnostics collection on. \n",
          "name": "stdout"
        }
      ]
    },
    {
      "metadata": {},
      "cell_type": "markdown",
      "source": "Now we are ready to configure automated ML.  \n\nWe provide necessary information on: what we want to predict, what accuracy metric we want to use, how many models we want to try, and many other parameters.  \nAutoML will also automatically scale the data for us."
    },
    {
      "metadata": {},
      "cell_type": "markdown",
      "source": "## 03 - Auto Featurization with Automated ML\n\nYou can use these params.\n\n|Property|Description|\n|-|-|\n|**task**|classification or regression|\n|**primary_metric**|This is the metric that you want to optimize. Classification supports the following primary metrics: <br><i>accuracy</i><br><i>AUC_weighted</i><br><i>average_precision_score_weighted</i><br><i>norm_macro_recall</i><br><i>precision_score_weighted</i>|\n|**primary_metric**|This is the metric that you want to optimize. Regression supports the following primary metrics: <br><i>spearman_correlation</i><br><i>normalized_root_mean_squared_error</i><br><i>r2_score</i><br><i>normalized_mean_absolute_error</i>|\n|**iteration_timeout_minutes**|Time limit in minutes for each iteration.|\n|**iterations**|Number of iterations. In each iteration AutoML trains a specific pipeline with the data.|\n|**n_cross_validations**|Number of cross validation splits.|\n|**X**|(sparse) array-like, shape = [n_samples, n_features]|\n|**y**|(sparse) array-like, shape = [n_samples, ], [n_samples, n_classes]<br>Multi-class targets. An indicator matrix turns on multilabel classification. This should be an array of integers.|\n|**path**|Relative path to the project folder. AutoML stores configuration files for the experiment under this folder. You can specify a new empty folder.|\n|**preprocess**|set this to True to enable pre-processing of data eg. string to numeric using one-hot encoding|\n|**exit_score**|Target score for experiment. It is associated with the metric. eg. exit_score=0.995 will exit experiment after that|"
    },
    {
      "metadata": {
        "ExecuteTime": {
          "start_time": "2019-06-24T21:19:00.338008Z",
          "end_time": "2019-06-24T21:19:00.348284Z"
        },
        "trusted": true
      },
      "cell_type": "code",
      "source": "from pprint import pprint\n\ndef print_model(model, prefix=\"\"):\n    for step in model.steps:\n        print(prefix + step[0])\n        if hasattr(step[1], 'estimators') and hasattr(step[1], 'weights'):\n            pprint({'estimators': list(e[0] for e in step[1].estimators), 'weights': step[1].weights})\n            print()\n            for estimator in step[1].estimators:\n                print_model(estimator[1], estimator[0]+ ' - ')\n        elif hasattr(step[1], '_base_learners') and hasattr(step[1], '_meta_learner'):\n            print(\"\\nMeta Learner\")\n            pprint(step[1]._meta_learner)\n            print()\n            for estimator in step[1]._base_learners:\n                print_model(estimator[1], estimator[0]+ ' - ')\n        else:\n            pprint(step[1].get_params())\n            print()",
      "execution_count": 41,
      "outputs": []
    },
    {
      "metadata": {
        "ExecuteTime": {
          "start_time": "2019-06-24T21:02:32.537755Z",
          "end_time": "2019-06-24T21:02:32.555587Z"
        },
        "trusted": true
      },
      "cell_type": "code",
      "source": "from pprint import pprint\nimport pandas as pd\n\n# function to pretty print the engineered features\ndef print_engineered_features(features_summary):\n    print(pd.DataFrame(features_summary, columns=[\"RawFeatureName\", \"TypeDetected\", \"Dropped\",\"EngineeredFeatureCount\",\"Tranformations\"]))",
      "execution_count": 26,
      "outputs": []
    },
    {
      "metadata": {
        "ExecuteTime": {
          "start_time": "2019-06-24T21:02:33.140827Z",
          "end_time": "2019-06-24T21:02:33.144664Z"
        },
        "trusted": true
      },
      "cell_type": "code",
      "source": "#model_explainability=True,",
      "execution_count": 27,
      "outputs": []
    },
    {
      "metadata": {},
      "cell_type": "markdown",
      "source": "### 3a - Auto Featurization with AutoML using NASA Dataset"
    },
    {
      "metadata": {
        "ExecuteTime": {
          "start_time": "2019-06-24T21:02:34.539516Z",
          "end_time": "2019-06-24T21:02:34.548391Z"
        },
        "trusted": true
      },
      "cell_type": "code",
      "source": "import time\n\nautoml_settings = {\n    \"name\": \"AutoML_Book_CH07_FeatureEngineering_{0}\".format(time.time()),\n    \"task\": \"regression\",\n    \"iteration_timeout_minutes\": 10,\n    \"iterations\": 10,\n    \"max_cores_per_iteration\": 1,\n    \"primary_metric\": 'r2_score',\n    \"max_concurrent_iterations\": 10,\n    \"experiment_exit_score\": 0.985,\n    \"debug_log\": \"automl_ch07_errors{0}.log\".format(time.time()),\n    \"verbosity\": logging.ERROR\n}",
      "execution_count": 28,
      "outputs": []
    },
    {
      "metadata": {
        "trusted": true,
        "ExecuteTime": {
          "start_time": "2019-06-24T21:02:35.393265Z",
          "end_time": "2019-06-24T21:02:35.400289Z"
        }
      },
      "cell_type": "code",
      "source": "##Local compute \nAutoml_config = AutoMLConfig(\n                             preprocess = False,\n                             X = X_train,\n                             y = y_train,\n                             X_valid = X_valid,\n                             y_valid = y_valid,\n                             path=project_folder,\n                             **automl_settings)",
      "execution_count": 29,
      "outputs": []
    },
    {
      "metadata": {
        "trusted": true,
        "ExecuteTime": {
          "start_time": "2019-06-24T21:02:36.064621Z",
          "end_time": "2019-06-24T21:06:07.465731Z"
        }
      },
      "cell_type": "code",
      "source": "# Training the predictive maintenance model\nexperiment=Experiment(ws, experiment_name)\nlocal_run = experiment.submit(Automl_config, show_output=True)",
      "execution_count": 30,
      "outputs": [
        {
          "output_type": "stream",
          "text": "Running on local machine\nParent Run ID: AutoML_d926caf4-6af4-4956-bb4e-46b58e595e81\nCurrent status: ModelSelection. Beginning model selection.\n\n****************************************************************************************************\nITERATION: The iteration being evaluated.\nPIPELINE: A summary description of the pipeline being evaluated.\nDURATION: Time taken for the current iteration.\nMETRIC: The result of computing score on the fitted pipeline.\nBEST: The best observed score thus far.\n****************************************************************************************************\n\n ITERATION   PIPELINE                                       DURATION      METRIC      BEST\n         0   StandardScalerWrapper LightGBM                 0:00:15       0.6161    0.6161\n         1   MaxAbsScaler LightGBM                          0:00:19       0.6186    0.6186\n         2   StandardScalerWrapper ExtremeRandomTrees       0:00:12       0.4343    0.6186\n         3   RobustScaler LightGBM                          0:00:19       0.6165    0.6186\n         4   StandardScalerWrapper LightGBM                 0:00:13       0.4834    0.6186\n         5   StandardScalerWrapper LightGBM                 0:00:11       0.6220    0.6220\n         6   StandardScalerWrapper ElasticNet               0:00:12       0.4773    0.6220\n         7   StandardScalerWrapper ExtremeRandomTrees       0:00:11       0.5334    0.6220\n         8   VotingEnsemble                                 0:00:40       0.6255    0.6255\n         9   StackEnsemble                                  0:00:49       0.6255    0.6255\n",
          "name": "stdout"
        }
      ]
    },
    {
      "metadata": {
        "ExecuteTime": {
          "start_time": "2019-06-24T21:13:26.394011Z",
          "end_time": "2019-06-24T21:13:34.777488Z"
        },
        "trusted": true
      },
      "cell_type": "code",
      "source": "# find the run with the highest r2_score value.\nbest_run, fitted_model = local_run.get_output()",
      "execution_count": 31,
      "outputs": []
    },
    {
      "metadata": {
        "ExecuteTime": {
          "start_time": "2019-06-24T21:13:34.787749Z",
          "end_time": "2019-06-24T21:13:34.797381Z"
        },
        "trusted": true
      },
      "cell_type": "code",
      "source": "print(best_run)",
      "execution_count": 32,
      "outputs": [
        {
          "output_type": "stream",
          "text": "Run(Experiment: automl-predictive-rul-ch07,\nId: AutoML_d926caf4-6af4-4956-bb4e-46b58e595e81_9,\nType: None,\nStatus: Completed)\n",
          "name": "stdout"
        }
      ]
    },
    {
      "metadata": {
        "ExecuteTime": {
          "start_time": "2019-06-24T21:17:58.198716Z",
          "end_time": "2019-06-24T21:17:58.204294Z"
        },
        "trusted": true
      },
      "cell_type": "code",
      "source": "print(fitted_model.steps)",
      "execution_count": 37,
      "outputs": [
        {
          "output_type": "stream",
          "text": "[('stackensembleregressor', StackEnsembleRegressor(base_learners=[('5', RegressionPipeline(pipeline=Pipeline(memory=None,\n     steps=[('StandardScalerWrapper', <automl.client.core.common.model_wrappers.StandardScalerWrapper object at 0x7f07c3507da0>), ('LightGBMRegressor', <automl.client.core.common.model_wrappers.LightGBMRegressor object at 0x7f07c....core.common.model_wrappers.LightGBMRegressor object at 0x7f07c19070f0>)]),\n          stddev=None))],\n            meta_learner=ElasticNet(alpha=1.0, copy_X=True, fit_intercept=True, l1_ratio=0.5,\n      max_iter=1000, normalize=False, positive=False, precompute=False,\n      random_state=None, selection='cyclic', tol=0.0001, warm_start=False),\n            training_cv_folds=5))]\n",
          "name": "stdout"
        }
      ]
    },
    {
      "metadata": {
        "ExecuteTime": {
          "start_time": "2019-06-24T21:19:12.526251Z",
          "end_time": "2019-06-24T21:19:12.565865Z"
        },
        "trusted": true
      },
      "cell_type": "code",
      "source": "print_model(fitted_model)",
      "execution_count": 42,
      "outputs": [
        {
          "output_type": "stream",
          "text": "stackensembleregressor\n\nMeta Learner\nElasticNet(alpha=1.0, copy_X=True, fit_intercept=True, l1_ratio=0.5,\n      max_iter=1000, normalize=False, positive=False, precompute=False,\n      random_state=None, selection='cyclic', tol=0.0001, warm_start=False)\n\n5 - StandardScalerWrapper\n{'class_name': 'StandardScaler',\n 'copy': True,\n 'module_name': 'sklearn.preprocessing.data',\n 'with_mean': True,\n 'with_std': True}\n\n5 - LightGBMRegressor\n{'boosting_type': 'gbdt',\n 'class_weight': None,\n 'colsample_bytree': 0.5,\n 'importance_type': 'split',\n 'learning_rate': 0.1789484210526316,\n 'max_bin': 255,\n 'max_depth': 9,\n 'min_child_samples': 194,\n 'min_child_weight': 0.001,\n 'min_split_gain': 0.9473684210526315,\n 'n_estimators': 100,\n 'n_jobs': 1,\n 'num_leaves': 127,\n 'objective': None,\n 'random_state': None,\n 'reg_alpha': 1.125,\n 'reg_lambda': 0.75,\n 'silent': True,\n 'subsample': 0.7,\n 'subsample_for_bin': 200000,\n 'subsample_freq': 0,\n 'verbose': -1}\n\n1 - MaxAbsScaler\n{'copy': True}\n\n1 - LightGBMRegressor\n{'boosting_type': 'gbdt',\n 'class_weight': None,\n 'colsample_bytree': 0.5,\n 'importance_type': 'split',\n 'learning_rate': 0.15789684210526317,\n 'max_bin': 63,\n 'max_depth': 9,\n 'min_child_samples': 1218,\n 'min_child_weight': 0.001,\n 'min_split_gain': 0.21052631578947367,\n 'n_estimators': 800,\n 'n_jobs': 1,\n 'num_leaves': 511,\n 'objective': None,\n 'random_state': None,\n 'reg_alpha': 0.3,\n 'reg_lambda': 1.2,\n 'silent': True,\n 'subsample': 0.35,\n 'subsample_for_bin': 200000,\n 'subsample_freq': 0,\n 'verbose': -1}\n\n3 - RobustScaler\n{'copy': True,\n 'quantile_range': [25, 75],\n 'with_centering': True,\n 'with_scaling': False}\n\n3 - LightGBMRegressor\n{'boosting_type': 'gbdt',\n 'class_weight': None,\n 'colsample_bytree': 0.7000000000000001,\n 'importance_type': 'split',\n 'learning_rate': 0.07369052631578947,\n 'max_bin': 63,\n 'max_depth': 10,\n 'min_child_samples': 118,\n 'min_child_weight': 0.001,\n 'min_split_gain': 0.8421052631578947,\n 'n_estimators': 400,\n 'n_jobs': 1,\n 'num_leaves': 127,\n 'objective': None,\n 'random_state': None,\n 'reg_alpha': 0.15,\n 'reg_lambda': 0,\n 'silent': True,\n 'subsample': 0.44999999999999996,\n 'subsample_for_bin': 200000,\n 'subsample_freq': 2,\n 'verbose': -1}\n\n0 - StandardScalerWrapper\n{'class_name': 'StandardScaler',\n 'copy': True,\n 'module_name': 'sklearn.preprocessing.data',\n 'with_mean': False,\n 'with_std': True}\n\n0 - LightGBMRegressor\n{'boosting_type': 'gbdt',\n 'class_weight': None,\n 'colsample_bytree': 0.7000000000000001,\n 'importance_type': 'split',\n 'learning_rate': 0.11579368421052631,\n 'max_bin': 255,\n 'max_depth': 8,\n 'min_child_samples': 118,\n 'min_child_weight': 0.001,\n 'min_split_gain': 0.3684210526315789,\n 'n_estimators': 400,\n 'n_jobs': 1,\n 'num_leaves': 31,\n 'objective': None,\n 'random_state': None,\n 'reg_alpha': 1.05,\n 'reg_lambda': 0.15,\n 'silent': True,\n 'subsample': 0.7,\n 'subsample_for_bin': 200000,\n 'subsample_freq': 1,\n 'verbose': -1}\n\n",
          "name": "stdout"
        }
      ]
    },
    {
      "metadata": {},
      "cell_type": "markdown",
      "source": "Let's explore models from Iteration 4 and 5"
    },
    {
      "metadata": {},
      "cell_type": "markdown",
      "source": "#### Explore the runs and models from different iterations"
    },
    {
      "metadata": {
        "ExecuteTime": {
          "start_time": "2019-06-24T21:19:35.422322Z",
          "end_time": "2019-06-24T21:19:39.891758Z"
        },
        "trusted": true
      },
      "cell_type": "code",
      "source": "explore_run1, explore_model1 = local_run.get_output(iteration = 4)\nexplore_run2, explore_model2 = local_run.get_output(iteration = 5)\n",
      "execution_count": 44,
      "outputs": []
    },
    {
      "metadata": {
        "ExecuteTime": {
          "start_time": "2019-06-24T21:19:53.819454Z",
          "end_time": "2019-06-24T21:19:53.832602Z"
        },
        "trusted": true
      },
      "cell_type": "code",
      "source": "print_model(explore_model1)",
      "execution_count": 46,
      "outputs": [
        {
          "output_type": "stream",
          "text": "StandardScalerWrapper\n{'class_name': 'StandardScaler',\n 'copy': True,\n 'module_name': 'sklearn.preprocessing.data',\n 'with_mean': False,\n 'with_std': True}\n\nLightGBMRegressor\n{'boosting_type': 'gbdt',\n 'class_weight': None,\n 'colsample_bytree': 0.7000000000000001,\n 'importance_type': 'split',\n 'learning_rate': 0.1894742105263158,\n 'max_bin': 7,\n 'max_depth': 3,\n 'min_child_samples': 139,\n 'min_child_weight': 0.001,\n 'min_split_gain': 0.9473684210526315,\n 'n_estimators': 800,\n 'n_jobs': 1,\n 'num_leaves': 7,\n 'objective': None,\n 'random_state': None,\n 'reg_alpha': 0.075,\n 'reg_lambda': 0.6,\n 'silent': True,\n 'subsample': 0.7999999999999999,\n 'subsample_for_bin': 200000,\n 'subsample_freq': 0,\n 'verbose': -1}\n\n",
          "name": "stdout"
        }
      ]
    },
    {
      "metadata": {
        "ExecuteTime": {
          "start_time": "2019-06-24T21:19:58.79844Z",
          "end_time": "2019-06-24T21:19:58.831743Z"
        },
        "trusted": true
      },
      "cell_type": "code",
      "source": "print_model(explore_model2)",
      "execution_count": 47,
      "outputs": [
        {
          "output_type": "stream",
          "text": "StandardScalerWrapper\n{'class_name': 'StandardScaler',\n 'copy': True,\n 'module_name': 'sklearn.preprocessing.data',\n 'with_mean': True,\n 'with_std': True}\n\nLightGBMRegressor\n{'boosting_type': 'gbdt',\n 'class_weight': None,\n 'colsample_bytree': 0.5,\n 'importance_type': 'split',\n 'learning_rate': 0.1789484210526316,\n 'max_bin': 255,\n 'max_depth': 9,\n 'min_child_samples': 194,\n 'min_child_weight': 0.001,\n 'min_split_gain': 0.9473684210526315,\n 'n_estimators': 100,\n 'n_jobs': 1,\n 'num_leaves': 127,\n 'objective': None,\n 'random_state': None,\n 'reg_alpha': 1.125,\n 'reg_lambda': 0.75,\n 'silent': True,\n 'subsample': 0.7,\n 'subsample_for_bin': 200000,\n 'subsample_freq': 0,\n 'verbose': -1}\n\n",
          "name": "stdout"
        }
      ]
    },
    {
      "metadata": {},
      "cell_type": "markdown",
      "source": "#### What if we turn on preprocess?"
    },
    {
      "metadata": {
        "ExecuteTime": {
          "start_time": "2019-06-24T21:20:00.968955Z",
          "end_time": "2019-06-24T21:20:00.973625Z"
        },
        "trusted": true
      },
      "cell_type": "code",
      "source": "import time\n\nautoml_settings = {\n    \"name\": \"AutoML_Book_CH07_FeatureEngineering_{0}\".format(time.time()),\n    \"task\": \"regression\",\n    \"iteration_timeout_minutes\": 10,\n    \"iterations\": 10,\n    \"max_cores_per_iteration\": 1,\n    \"primary_metric\": 'r2_score',\n    \"max_concurrent_iterations\": 10,\n    \"experiment_exit_score\": 0.985,\n    \"debug_log\": \"automl_ch07_errors{0}.log\".format(time.time()),\n    \"verbosity\": logging.ERROR\n}",
      "execution_count": 48,
      "outputs": []
    },
    {
      "metadata": {
        "ExecuteTime": {
          "start_time": "2019-06-24T21:20:03.88046Z",
          "end_time": "2019-06-24T21:20:03.884825Z"
        },
        "trusted": true
      },
      "cell_type": "code",
      "source": "##Local compute \nAutoml_config = AutoMLConfig(\n                             preprocess = True,\n                             X = X_train,\n                             y = y_train,\n                             X_valid = X_valid,\n                             y_valid = y_valid,\n                             path=project_folder,\n                             **automl_settings)",
      "execution_count": 49,
      "outputs": []
    },
    {
      "metadata": {
        "ExecuteTime": {
          "start_time": "2019-06-24T21:20:04.721743Z",
          "end_time": "2019-06-24T21:24:02.576014Z"
        },
        "trusted": true
      },
      "cell_type": "code",
      "source": "# Training the predictive maintenance model\nexperiment=Experiment(ws, experiment_name)\nlocal_run = experiment.submit(Automl_config, show_output=True)",
      "execution_count": 50,
      "outputs": [
        {
          "output_type": "stream",
          "text": "Running on local machine\nParent Run ID: AutoML_5ec52583-ead6-4d78-a558-0871d2b0f4e8\nCurrent status: DatasetEvaluation. Gathering dataset statistics.\nCurrent status: FeaturesGeneration. Generating features for the dataset.\nCurrent status: DatasetFeaturization. Featurizing the dataset.\nCurrent status: DatasetFeaturization. Featurizing the dataset.\nCurrent status: ModelSelection. Beginning model selection.\n\n****************************************************************************************************\nITERATION: The iteration being evaluated.\nPIPELINE: A summary description of the pipeline being evaluated.\nDURATION: Time taken for the current iteration.\nMETRIC: The result of computing score on the fitted pipeline.\nBEST: The best observed score thus far.\n****************************************************************************************************\n\n ITERATION   PIPELINE                                       DURATION      METRIC      BEST\n         0   StandardScalerWrapper LightGBM                 0:00:33       0.6161    0.6161\n         1   MaxAbsScaler LightGBM                          0:00:15       0.6186    0.6186\n         2   StandardScalerWrapper ExtremeRandomTrees       0:00:11       0.4380    0.6186\n         3   RobustScaler LightGBM                          0:00:15       0.6165    0.6186\n         4   StandardScalerWrapper LightGBM                 0:00:14       0.4834    0.6186\n         5   StandardScalerWrapper LightGBM                 0:00:11       0.6220    0.6220\n         6   StandardScalerWrapper ElasticNet               0:00:13       0.4773    0.6220\n         7   StandardScalerWrapper ExtremeRandomTrees       0:00:12       0.5362    0.6220\n         8   VotingEnsemble                                 0:00:54       0.6255    0.6255\n         9   StackEnsemble                                  0:00:43       0.6260    0.6260\n",
          "name": "stdout"
        }
      ]
    },
    {
      "metadata": {
        "ExecuteTime": {
          "start_time": "2019-06-24T21:24:09.963336Z",
          "end_time": "2019-06-24T21:24:17.522188Z"
        },
        "trusted": true
      },
      "cell_type": "code",
      "source": "best_run, fitted_model = local_run.get_output()",
      "execution_count": 51,
      "outputs": []
    },
    {
      "metadata": {
        "ExecuteTime": {
          "start_time": "2019-06-24T21:24:17.524485Z",
          "end_time": "2019-06-24T21:24:17.531629Z"
        },
        "trusted": true
      },
      "cell_type": "code",
      "source": "fitted_model.named_steps['datatransformer']. get_engineered_feature_names ()",
      "execution_count": 52,
      "outputs": [
        {
          "output_type": "execute_result",
          "execution_count": 52,
          "data": {
            "text/plain": "['C1_MeanImputer',\n 'C2_MeanImputer',\n 'C3_MeanImputer',\n 'C4_MeanImputer',\n 'C5_MeanImputer',\n 'C6_MeanImputer',\n 'C7_MeanImputer',\n 'C8_MeanImputer',\n 'C9_MeanImputer',\n 'C10_MeanImputer',\n 'C11_MeanImputer',\n 'C12_MeanImputer',\n 'C13_MeanImputer',\n 'C14_MeanImputer',\n 'C15_MeanImputer',\n 'C16_MeanImputer',\n 'C17_MeanImputer',\n 'C18_MeanImputer',\n 'C19_MeanImputer',\n 'C20_MeanImputer',\n 'C21_MeanImputer',\n 'C22_MeanImputer',\n 'C23_MeanImputer',\n 'C24_MeanImputer']"
          },
          "metadata": {}
        }
      ]
    },
    {
      "metadata": {
        "ExecuteTime": {
          "start_time": "2019-06-24T21:24:17.534968Z",
          "end_time": "2019-06-24T21:24:17.595733Z"
        },
        "trusted": true
      },
      "cell_type": "code",
      "source": "# Get the summary of the engineered features\nfeatures_summary = fitted_model.named_steps['datatransformer'].get_featurization_summary()",
      "execution_count": 53,
      "outputs": []
    },
    {
      "metadata": {
        "ExecuteTime": {
          "start_time": "2019-06-24T21:24:17.599215Z",
          "end_time": "2019-06-24T21:24:17.703884Z"
        },
        "trusted": true
      },
      "cell_type": "code",
      "source": "# Show all the Engineered Features from AutoML auto-featurization\nprint_engineered_features(features_summary)",
      "execution_count": 54,
      "outputs": [
        {
          "output_type": "stream",
          "text": "   RawFeatureName TypeDetected Dropped  EngineeredFeatureCount Tranformations\n0   C1             Numeric      No      1                       [MeanImputer]\n1   C2             Numeric      No      1                       [MeanImputer]\n2   C3             Numeric      No      1                       [MeanImputer]\n3   C4             Numeric      No      1                       [MeanImputer]\n4   C5             Numeric      No      1                       [MeanImputer]\n5   C6             Numeric      No      1                       [MeanImputer]\n6   C7             Numeric      No      1                       [MeanImputer]\n7   C8             Numeric      No      1                       [MeanImputer]\n8   C9             Numeric      No      1                       [MeanImputer]\n9   C10            Numeric      No      1                       [MeanImputer]\n10  C11            Numeric      No      1                       [MeanImputer]\n11  C12            Numeric      No      1                       [MeanImputer]\n12  C13            Numeric      No      1                       [MeanImputer]\n13  C14            Numeric      No      1                       [MeanImputer]\n14  C15            Numeric      No      1                       [MeanImputer]\n15  C16            Numeric      No      1                       [MeanImputer]\n16  C17            Numeric      No      1                       [MeanImputer]\n17  C18            Numeric      No      1                       [MeanImputer]\n18  C19            Numeric      No      1                       [MeanImputer]\n19  C20            Numeric      No      1                       [MeanImputer]\n20  C21            Numeric      No      1                       [MeanImputer]\n21  C22            Numeric      No      1                       [MeanImputer]\n22  C23            Numeric      No      1                       [MeanImputer]\n23  C24            Numeric      No      1                       [MeanImputer]\n",
          "name": "stdout"
        }
      ]
    },
    {
      "metadata": {},
      "cell_type": "markdown",
      "source": "### 3b Auto Featurization with AutoML - Energy Demand Dataset"
    },
    {
      "metadata": {
        "ExecuteTime": {
          "start_time": "2019-06-24T21:24:35.634034Z",
          "end_time": "2019-06-24T21:24:36.644493Z"
        },
        "trusted": true
      },
      "cell_type": "code",
      "source": "# Download the data for energy demand forecasting \nimport requests, zipfile, io\n\nnyc_energy_data_url = \"https://raw.githubusercontent.com/Azure/MachineLearningNotebooks/master/how-to-use-azureml/automated-machine-learning/forecasting-energy-demand/nyc_energy.csv\"\nr = requests.get(nyc_energy_data_url)\nopen('data/nyc_energy.csv', 'wb').write(r.content)",
      "execution_count": 55,
      "outputs": [
        {
          "output_type": "execute_result",
          "execution_count": 55,
          "data": {
            "text/plain": "1867062"
          },
          "metadata": {}
        }
      ]
    },
    {
      "metadata": {
        "ExecuteTime": {
          "start_time": "2019-06-24T21:24:36.649834Z",
          "end_time": "2019-06-24T21:24:37.070011Z"
        },
        "trusted": true
      },
      "cell_type": "code",
      "source": "data = pd.read_csv('data/nyc_energy.csv', parse_dates=['timeStamp'])\ndata.head()",
      "execution_count": 56,
      "outputs": [
        {
          "output_type": "execute_result",
          "execution_count": 56,
          "data": {
            "text/html": "<div>\n<style scoped>\n    .dataframe tbody tr th:only-of-type {\n        vertical-align: middle;\n    }\n\n    .dataframe tbody tr th {\n        vertical-align: top;\n    }\n\n    .dataframe thead th {\n        text-align: right;\n    }\n</style>\n<table border=\"1\" class=\"dataframe\">\n  <thead>\n    <tr style=\"text-align: right;\">\n      <th></th>\n      <th>timeStamp</th>\n      <th>demand</th>\n      <th>precip</th>\n      <th>temp</th>\n    </tr>\n  </thead>\n  <tbody>\n    <tr>\n      <th>0</th>\n      <td>2012-01-01 00:00:00</td>\n      <td>4937.50</td>\n      <td>0.00</td>\n      <td>46.13</td>\n    </tr>\n    <tr>\n      <th>1</th>\n      <td>2012-01-01 01:00:00</td>\n      <td>4752.10</td>\n      <td>0.00</td>\n      <td>45.89</td>\n    </tr>\n    <tr>\n      <th>2</th>\n      <td>2012-01-01 02:00:00</td>\n      <td>4542.60</td>\n      <td>0.00</td>\n      <td>45.04</td>\n    </tr>\n    <tr>\n      <th>3</th>\n      <td>2012-01-01 03:00:00</td>\n      <td>4357.70</td>\n      <td>0.00</td>\n      <td>45.03</td>\n    </tr>\n    <tr>\n      <th>4</th>\n      <td>2012-01-01 04:00:00</td>\n      <td>4275.50</td>\n      <td>0.00</td>\n      <td>42.61</td>\n    </tr>\n  </tbody>\n</table>\n</div>",
            "text/plain": "            timeStamp  demand  precip  temp\n0 2012-01-01 00:00:00 4937.50 0.00    46.13\n1 2012-01-01 01:00:00 4752.10 0.00    45.89\n2 2012-01-01 02:00:00 4542.60 0.00    45.04\n3 2012-01-01 03:00:00 4357.70 0.00    45.03\n4 2012-01-01 04:00:00 4275.50 0.00    42.61"
          },
          "metadata": {}
        }
      ]
    },
    {
      "metadata": {
        "ExecuteTime": {
          "start_time": "2019-06-24T21:24:37.073479Z",
          "end_time": "2019-06-24T21:24:37.077762Z"
        },
        "trusted": true
      },
      "cell_type": "code",
      "source": "# let's take note of what columns means what in the data\ntime_column_name = 'timeStamp'\ntarget_column_name = 'demand'",
      "execution_count": 57,
      "outputs": []
    },
    {
      "metadata": {
        "ExecuteTime": {
          "start_time": "2019-06-24T21:24:37.85195Z",
          "end_time": "2019-06-24T21:24:38.372917Z"
        },
        "trusted": true
      },
      "cell_type": "code",
      "source": "import matplotlib.pyplot as plt\n\nax = plt.gca()\ndata.plot(kind='line',x=time_column_name,y=target_column_name,ax=ax)\nplt.show()",
      "execution_count": 58,
      "outputs": [
        {
          "output_type": "display_data",
          "data": {
            "image/png": "[encoded data removed]",
            "text/plain": "<Figure size 432x288 with 1 Axes>"
          },
          "metadata": {
            "needs_background": "light"
          }
        }
      ]
    },
    {
      "metadata": {
        "ExecuteTime": {
          "start_time": "2019-06-24T21:24:38.539032Z",
          "end_time": "2019-06-24T21:24:38.554426Z"
        },
        "trusted": true
      },
      "cell_type": "code",
      "source": "X_train = data[data[time_column_name] < '2017-02-01']\nX_test = data[data[time_column_name] >= '2017-02-01']\ny_train = X_train.pop(target_column_name).values\ny_test = X_test.pop(target_column_name).values",
      "execution_count": 59,
      "outputs": []
    },
    {
      "metadata": {
        "ExecuteTime": {
          "start_time": "2019-06-24T21:24:48.092477Z",
          "end_time": "2019-06-24T21:24:48.104714Z"
        },
        "trusted": true
      },
      "cell_type": "code",
      "source": "X_train.tail(5)",
      "execution_count": 60,
      "outputs": [
        {
          "output_type": "execute_result",
          "execution_count": 60,
          "data": {
            "text/html": "<div>\n<style scoped>\n    .dataframe tbody tr th:only-of-type {\n        vertical-align: middle;\n    }\n\n    .dataframe tbody tr th {\n        vertical-align: top;\n    }\n\n    .dataframe thead th {\n        text-align: right;\n    }\n</style>\n<table border=\"1\" class=\"dataframe\">\n  <thead>\n    <tr style=\"text-align: right;\">\n      <th></th>\n      <th>timeStamp</th>\n      <th>precip</th>\n      <th>temp</th>\n    </tr>\n  </thead>\n  <tbody>\n    <tr>\n      <th>49143</th>\n      <td>2016-06-20 20:00:00</td>\n      <td>0.00</td>\n      <td>76.86</td>\n    </tr>\n    <tr>\n      <th>49144</th>\n      <td>2016-06-20 21:00:00</td>\n      <td>0.00</td>\n      <td>77.31</td>\n    </tr>\n    <tr>\n      <th>49145</th>\n      <td>2016-08-09 03:00:00</td>\n      <td>0.00</td>\n      <td>72.66</td>\n    </tr>\n    <tr>\n      <th>49146</th>\n      <td>2016-10-19 05:00:00</td>\n      <td>0.00</td>\n      <td>69.37</td>\n    </tr>\n    <tr>\n      <th>49147</th>\n      <td>2017-01-09 15:00:00</td>\n      <td>0.00</td>\n      <td>22.63</td>\n    </tr>\n  </tbody>\n</table>\n</div>",
            "text/plain": "                timeStamp  precip  temp\n49143 2016-06-20 20:00:00 0.00    76.86\n49144 2016-06-20 21:00:00 0.00    77.31\n49145 2016-08-09 03:00:00 0.00    72.66\n49146 2016-10-19 05:00:00 0.00    69.37\n49147 2017-01-09 15:00:00 0.00    22.63"
          },
          "metadata": {}
        }
      ]
    },
    {
      "metadata": {
        "ExecuteTime": {
          "start_time": "2019-06-24T21:24:49.776799Z",
          "end_time": "2019-06-24T21:24:49.791575Z"
        },
        "trusted": true
      },
      "cell_type": "code",
      "source": "X_test.tail(5)",
      "execution_count": 61,
      "outputs": [
        {
          "output_type": "execute_result",
          "execution_count": 61,
          "data": {
            "text/html": "<div>\n<style scoped>\n    .dataframe tbody tr th:only-of-type {\n        vertical-align: middle;\n    }\n\n    .dataframe tbody tr th {\n        vertical-align: top;\n    }\n\n    .dataframe thead th {\n        text-align: right;\n    }\n</style>\n<table border=\"1\" class=\"dataframe\">\n  <thead>\n    <tr style=\"text-align: right;\">\n      <th></th>\n      <th>timeStamp</th>\n      <th>precip</th>\n      <th>temp</th>\n    </tr>\n  </thead>\n  <tbody>\n    <tr>\n      <th>49200</th>\n      <td>2017-08-12 02:00:00</td>\n      <td>0.00</td>\n      <td>70.84</td>\n    </tr>\n    <tr>\n      <th>49201</th>\n      <td>2017-08-12 03:00:00</td>\n      <td>0.00</td>\n      <td>70.57</td>\n    </tr>\n    <tr>\n      <th>49202</th>\n      <td>2017-08-12 04:00:00</td>\n      <td>0.00</td>\n      <td>69.89</td>\n    </tr>\n    <tr>\n      <th>49203</th>\n      <td>2017-08-12 05:00:00</td>\n      <td>0.00</td>\n      <td>68.59</td>\n    </tr>\n    <tr>\n      <th>49204</th>\n      <td>2017-08-12 06:00:00</td>\n      <td>0.00</td>\n      <td>67.33</td>\n    </tr>\n  </tbody>\n</table>\n</div>",
            "text/plain": "                timeStamp  precip  temp\n49200 2017-08-12 02:00:00 0.00    70.84\n49201 2017-08-12 03:00:00 0.00    70.57\n49202 2017-08-12 04:00:00 0.00    69.89\n49203 2017-08-12 05:00:00 0.00    68.59\n49204 2017-08-12 06:00:00 0.00    67.33"
          },
          "metadata": {}
        }
      ]
    },
    {
      "metadata": {
        "ExecuteTime": {
          "start_time": "2019-06-24T21:24:55.479972Z",
          "end_time": "2019-06-24T21:24:55.48909Z"
        },
        "trusted": true
      },
      "cell_type": "code",
      "source": "time_series_settings = {\n     \"time_column_name\": time_column_name,\n    \"max_horizon\": 24\n    #\"country_or_region\" : 'US',\n    # these columns are a breakdown of the total and therefore a leak\n    # knowing the country/region allows Automated ML to bring in holidays\n    #\"country_or_region\" : 'US',\n    #\"target_lags\": 1    \n}",
      "execution_count": 62,
      "outputs": []
    },
    {
      "metadata": {
        "ExecuteTime": {
          "start_time": "2019-06-24T21:24:56.733653Z",
          "end_time": "2019-06-24T21:24:56.743661Z"
        },
        "trusted": true
      },
      "cell_type": "code",
      "source": "automl_config = AutoMLConfig(task = 'forecasting', \n                             primary_metric='normalized_root_mean_squared_error',\n                             iterations = 10,\n                             iteration_timeout_minutes = 5,\n                             X = X_train,\n                             y = y_train,\n                             n_cross_validations = 3,                             \n                             path=project_folder,\n                             verbosity = logging.INFO,\n                            **time_series_settings)",
      "execution_count": 63,
      "outputs": []
    },
    {
      "metadata": {
        "ExecuteTime": {
          "start_time": "2019-06-24T21:24:58.018012Z",
          "end_time": "2019-06-24T21:28:54.829692Z"
        },
        "trusted": true
      },
      "cell_type": "code",
      "source": "local_run = experiment.submit(automl_config, show_output=True)",
      "execution_count": 64,
      "outputs": [
        {
          "output_type": "stream",
          "text": "Running on local machine\nParent Run ID: AutoML_1e866ac7-6593-4485-ac55-6a4f18949bc4\nCurrent status: DatasetCrossValidationSplit. Generating individually featurized CV splits.\nCurrent status: ModelSelection. Beginning model selection.\n\n****************************************************************************************************\nITERATION: The iteration being evaluated.\nPIPELINE: A summary description of the pipeline being evaluated.\nDURATION: Time taken for the current iteration.\nMETRIC: The result of computing score on the fitted pipeline.\nBEST: The best observed score thus far.\n****************************************************************************************************\n\n ITERATION   PIPELINE                                       DURATION      METRIC      BEST\n         0   RobustScaler ElasticNet                        0:00:26       0.0648    0.0648\n         1   StandardScalerWrapper ElasticNet               0:00:19       0.0651    0.0648\n         2   StandardScalerWrapper ElasticNet               0:00:20       0.0643    0.0643\n         3   StandardScalerWrapper RandomForest             0:00:22       0.0263    0.0263\n         4   StandardScalerWrapper LightGBM                 0:00:19       0.0396    0.0263\n         5   StandardScalerWrapper LassoLars                0:00:19       0.0649    0.0263\n         6   MinMaxScaler DecisionTree                      0:00:18       0.0293    0.0263\n         7   MaxAbsScaler RandomForest                      0:00:20       0.0226    0.0226\n         8   VotingEnsemble                                 0:00:28       0.0203    0.0203\n         9   StackEnsemble                                  0:00:25       0.0189    0.0189\n",
          "name": "stdout"
        }
      ]
    },
    {
      "metadata": {
        "ExecuteTime": {
          "start_time": "2019-06-24T21:29:01.385059Z",
          "end_time": "2019-06-24T21:29:06.23094Z"
        },
        "trusted": true
      },
      "cell_type": "code",
      "source": "best_run, fitted_model = local_run.get_output()",
      "execution_count": 65,
      "outputs": []
    },
    {
      "metadata": {
        "ExecuteTime": {
          "start_time": "2019-06-24T21:29:06.233876Z",
          "end_time": "2019-06-24T21:29:06.248671Z"
        },
        "trusted": true
      },
      "cell_type": "code",
      "source": "print(best_run)",
      "execution_count": 66,
      "outputs": [
        {
          "output_type": "stream",
          "text": "Run(Experiment: automl-predictive-rul-ch07,\nId: AutoML_1e866ac7-6593-4485-ac55-6a4f18949bc4_9,\nType: None,\nStatus: Completed)\n",
          "name": "stdout"
        }
      ]
    },
    {
      "metadata": {
        "ExecuteTime": {
          "start_time": "2019-06-24T21:29:06.255271Z",
          "end_time": "2019-06-24T21:29:06.366061Z"
        },
        "trusted": true
      },
      "cell_type": "code",
      "source": "# Get the summary of the engineered features\nfeatures_summary = fitted_model.named_steps['timeseriestransformer'].get_featurization_summary()",
      "execution_count": 67,
      "outputs": []
    },
    {
      "metadata": {
        "ExecuteTime": {
          "start_time": "2019-06-24T21:29:06.376922Z",
          "end_time": "2019-06-24T21:29:06.443951Z"
        },
        "trusted": true
      },
      "cell_type": "code",
      "source": "fitted_model.named_steps['timeseriestransformer'].get_featurization_summary()",
      "execution_count": 68,
      "outputs": [
        {
          "output_type": "execute_result",
          "execution_count": 68,
          "data": {
            "text/plain": "[{'RawFeatureName': 'precip',\n  'TypeDetected': 'Numeric',\n  'Dropped': 'No',\n  'EngineeredFeatureCount': 2,\n  'Tranformations': ['MeanImputer', 'ImputationMarker']},\n {'RawFeatureName': 'temp',\n  'TypeDetected': 'Numeric',\n  'Dropped': 'No',\n  'EngineeredFeatureCount': 2,\n  'Tranformations': ['MeanImputer', 'ImputationMarker']},\n {'RawFeatureName': 'timeStamp',\n  'TypeDetected': 'DateTime',\n  'Dropped': 'No',\n  'EngineeredFeatureCount': 11,\n  'Tranformations': ['DateTime',\n   'DateTime',\n   'DateTime',\n   'DateTime',\n   'DateTime',\n   'DateTime',\n   'DateTime',\n   'DateTime',\n   'DateTime',\n   'DateTime',\n   'DateTime']}]"
          },
          "metadata": {}
        }
      ]
    },
    {
      "metadata": {
        "ExecuteTime": {
          "start_time": "2019-06-24T21:29:06.447192Z",
          "end_time": "2019-06-24T21:29:06.522291Z"
        },
        "trusted": true
      },
      "cell_type": "code",
      "source": "# Show all the Engineered Features from AutoML auto-featurization\nprint_engineered_features(features_summary)",
      "execution_count": 69,
      "outputs": [
        {
          "output_type": "stream",
          "text": "  RawFeatureName TypeDetected Dropped  EngineeredFeatureCount  \\\n0  precip         Numeric      No      2                        \n1  temp           Numeric      No      2                        \n2  timeStamp      DateTime     No      11                       \n\n                                                                                                   Tranformations  \n0  [MeanImputer, ImputationMarker]                                                                                 \n1  [MeanImputer, ImputationMarker]                                                                                 \n2  [DateTime, DateTime, DateTime, DateTime, DateTime, DateTime, DateTime, DateTime, DateTime, DateTime, DateTime]  \n",
          "name": "stdout"
        }
      ]
    },
    {
      "metadata": {
        "ExecuteTime": {
          "start_time": "2019-06-24T21:29:06.534506Z",
          "end_time": "2019-06-24T21:29:06.637275Z"
        },
        "trusted": true
      },
      "cell_type": "code",
      "source": "fitted_model.named_steps['timeseriestransformer'].get_engineered_feature_names()",
      "execution_count": 70,
      "outputs": [
        {
          "output_type": "execute_result",
          "execution_count": 70,
          "data": {
            "text/plain": "['precip',\n 'temp',\n 'precip_WASNULL',\n 'temp_WASNULL',\n 'year',\n 'half',\n 'quarter',\n 'month',\n 'day',\n 'hour',\n 'am_pm',\n 'hour12',\n 'wday',\n 'qday',\n 'week']"
          },
          "metadata": {}
        }
      ]
    },
    {
      "metadata": {
        "ExecuteTime": {
          "start_time": "2019-06-24T21:29:06.643126Z",
          "end_time": "2019-06-24T21:29:06.692905Z"
        },
        "trusted": true
      },
      "cell_type": "code",
      "source": "# preprocess is true\nautoml_config = AutoMLConfig(task = 'forecasting',      \n                             primary_metric='normalized_root_mean_squared_error',\n                             iterations = 5,\n                             iteration_timeout_minutes = 5,\n                             X = X_train,\n                             y = y_train,\n                             n_cross_validations = 3,                             \n                             path=project_folder,\n                             verbosity = logging.INFO,\n                            **time_series_settings)",
      "execution_count": 71,
      "outputs": []
    },
    {
      "metadata": {
        "ExecuteTime": {
          "start_time": "2019-06-24T21:29:07.730134Z",
          "end_time": "2019-06-24T21:31:16.397252Z"
        },
        "trusted": true
      },
      "cell_type": "code",
      "source": "local_run = experiment.submit(automl_config, show_output=True)",
      "execution_count": 72,
      "outputs": [
        {
          "output_type": "stream",
          "text": "Running on local machine\nParent Run ID: AutoML_e3e3d4ee-a985-4455-ab54-b83c900da755\nCurrent status: DatasetCrossValidationSplit. Generating individually featurized CV splits.\nCurrent status: ModelSelection. Beginning model selection.\n\n****************************************************************************************************\nITERATION: The iteration being evaluated.\nPIPELINE: A summary description of the pipeline being evaluated.\nDURATION: Time taken for the current iteration.\nMETRIC: The result of computing score on the fitted pipeline.\nBEST: The best observed score thus far.\n****************************************************************************************************\n\n ITERATION   PIPELINE                                       DURATION      METRIC      BEST\n         0   RobustScaler ElasticNet                        0:00:27       0.0648    0.0648\n         1   StandardScalerWrapper ElasticNet               0:00:18       0.0651    0.0648\n         2   StandardScalerWrapper ElasticNet               0:00:20       0.0643    0.0643\n         3   VotingEnsemble                                 0:00:24       0.0633    0.0633\n         4   StackEnsemble                                  0:00:23       0.0547    0.0547\n",
          "name": "stdout"
        }
      ]
    },
    {
      "metadata": {
        "trusted": true,
        "ExecuteTime": {
          "start_time": "2019-06-24T21:31:16.404857Z",
          "end_time": "2019-06-24T21:31:18.927821Z"
        }
      },
      "cell_type": "code",
      "source": "best_run, fitted_model = local_run.get_output()",
      "execution_count": 73,
      "outputs": []
    },
    {
      "metadata": {
        "trusted": true,
        "ExecuteTime": {
          "start_time": "2019-06-24T21:32:39.059261Z",
          "end_time": "2019-06-24T21:32:39.062817Z"
        }
      },
      "cell_type": "code",
      "source": "# Get the summary of the engineered features\nfeatures_summary = fitted_model.named_steps['timeseriestransformer'].get_featurization_summary()",
      "execution_count": 74,
      "outputs": []
    },
    {
      "metadata": {
        "trusted": true,
        "ExecuteTime": {
          "start_time": "2019-06-24T21:32:39.666539Z",
          "end_time": "2019-06-24T21:32:39.679917Z"
        }
      },
      "cell_type": "code",
      "source": "# Show all the Engineered Features from AutoML auto-featurization\nprint_engineered_features(features_summary)",
      "execution_count": 75,
      "outputs": [
        {
          "output_type": "stream",
          "text": "  RawFeatureName TypeDetected Dropped  EngineeredFeatureCount  \\\n0  precip         Numeric      No      2                        \n1  temp           Numeric      No      2                        \n2  timeStamp      DateTime     No      11                       \n\n                                                                                                   Tranformations  \n0  [MeanImputer, ImputationMarker]                                                                                 \n1  [MeanImputer, ImputationMarker]                                                                                 \n2  [DateTime, DateTime, DateTime, DateTime, DateTime, DateTime, DateTime, DateTime, DateTime, DateTime, DateTime]  \n",
          "name": "stdout"
        }
      ]
    },
    {
      "metadata": {
        "trusted": true,
        "ExecuteTime": {
          "start_time": "2019-06-24T21:32:40.433287Z",
          "end_time": "2019-06-24T21:32:40.443127Z"
        }
      },
      "cell_type": "code",
      "source": "# limit the evaluation to data where y_test has actuals\ndef align_outputs(y_predicted, X_trans, X_test, y_test, predicted_column_name = 'predicted'):\n    \"\"\"\n    Demonstrates how to get the output aligned to the inputs\n    using pandas indexes. Helps understand what happened if\n    the output's shape differs from the input shape, or if\n    the data got re-sorted by time and grain during forecasting.\n    \n    Typical causes of misalignment are:\n    * we predicted some periods that were missing in actuals -> drop from eval\n    * model was asked to predict past max_horizon -> increase max horizon\n    * data at start of X_test was needed for lags -> provide previous periods\n    \"\"\"\n    df_fcst = pd.DataFrame({predicted_column_name : y_predicted})\n    # y and X outputs are aligned by forecast() function contract\n    df_fcst.index = X_trans.index\n    \n    # align original X_test to y_test    \n    X_test_full = X_test.copy()\n    X_test_full[target_column_name] = y_test\n\n    # X_test_full's does not include origin, so reset for merge\n    df_fcst.reset_index(inplace=True)\n    X_test_full = X_test_full.reset_index().drop(columns='index')\n    together = df_fcst.merge(X_test_full, how='right')\n    \n    # drop rows where prediction or actuals are nan \n    # happens because of missing actuals \n    # or at edges of time due to lags/rolling windows\n    clean = together[together[[target_column_name, predicted_column_name]].notnull().all(axis=1)]\n    return(clean)\n\n",
      "execution_count": 76,
      "outputs": []
    },
    {
      "metadata": {
        "ExecuteTime": {
          "start_time": "2019-06-24T21:32:42.240912Z",
          "end_time": "2019-06-24T21:32:42.783851Z"
        },
        "trusted": true
      },
      "cell_type": "code",
      "source": "y_query = y_test.copy().astype(np.float)\ny_query.fill(np.NaN)\ny_fcst, X_trans = fitted_model.forecast(X_test, y_query)",
      "execution_count": 77,
      "outputs": []
    },
    {
      "metadata": {
        "ExecuteTime": {
          "start_time": "2019-06-24T21:32:42.949184Z",
          "end_time": "2019-06-24T21:32:42.957868Z"
        },
        "trusted": true
      },
      "cell_type": "code",
      "source": "from sklearn.metrics import mean_absolute_error, mean_squared_error, r2_score\n\ndef MAPE(actual, pred):\n    \"\"\"\n    Calculate mean absolute percentage error.\n    Remove NA and values where actual is close to zero\n    \"\"\"\n    not_na = ~(np.isnan(actual) | np.isnan(pred))\n    not_zero = ~np.isclose(actual, 0.0)\n    actual_safe = actual[not_na & not_zero]\n    pred_safe = pred[not_na & not_zero]\n    APE = 100*np.abs((actual_safe - pred_safe)/actual_safe)\n    return np.mean(APE)",
      "execution_count": 78,
      "outputs": []
    },
    {
      "metadata": {
        "ExecuteTime": {
          "start_time": "2019-06-24T21:32:43.886463Z",
          "end_time": "2019-06-24T21:32:43.922188Z"
        },
        "trusted": true
      },
      "cell_type": "code",
      "source": "df_all = align_outputs(y_fcst, X_trans, X_test, y_test)\ndf_all.head()",
      "execution_count": 79,
      "outputs": [
        {
          "output_type": "execute_result",
          "execution_count": 79,
          "data": {
            "text/html": "<div>\n<style scoped>\n    .dataframe tbody tr th:only-of-type {\n        vertical-align: middle;\n    }\n\n    .dataframe tbody tr th {\n        vertical-align: top;\n    }\n\n    .dataframe thead th {\n        text-align: right;\n    }\n</style>\n<table border=\"1\" class=\"dataframe\">\n  <thead>\n    <tr style=\"text-align: right;\">\n      <th></th>\n      <th>timeStamp</th>\n      <th>_automl_dummy_grain_col</th>\n      <th>predicted</th>\n      <th>precip</th>\n      <th>temp</th>\n      <th>demand</th>\n    </tr>\n  </thead>\n  <tbody>\n    <tr>\n      <th>0</th>\n      <td>2017-02-01 00:00:00</td>\n      <td>_automl_dummy_grain_col</td>\n      <td>4307.74</td>\n      <td>0.00</td>\n      <td>31.45</td>\n      <td>5090.62</td>\n    </tr>\n    <tr>\n      <th>1</th>\n      <td>2017-02-01 01:00:00</td>\n      <td>_automl_dummy_grain_col</td>\n      <td>4488.99</td>\n      <td>0.00</td>\n      <td>32.44</td>\n      <td>4839.25</td>\n    </tr>\n    <tr>\n      <th>2</th>\n      <td>2017-02-01 02:00:00</td>\n      <td>_automl_dummy_grain_col</td>\n      <td>4655.26</td>\n      <td>0.00</td>\n      <td>33.19</td>\n      <td>4702.52</td>\n    </tr>\n    <tr>\n      <th>3</th>\n      <td>2017-02-01 03:00:00</td>\n      <td>_automl_dummy_grain_col</td>\n      <td>4800.96</td>\n      <td>0.00</td>\n      <td>33.61</td>\n      <td>4629.94</td>\n    </tr>\n    <tr>\n      <th>4</th>\n      <td>2017-02-01 04:00:00</td>\n      <td>_automl_dummy_grain_col</td>\n      <td>4838.74</td>\n      <td>0.00</td>\n      <td>32.30</td>\n      <td>4653.38</td>\n    </tr>\n  </tbody>\n</table>\n</div>",
            "text/plain": "            timeStamp  _automl_dummy_grain_col  predicted  precip  temp  \\\n0 2017-02-01 00:00:00  _automl_dummy_grain_col 4307.74    0.00    31.45   \n1 2017-02-01 01:00:00  _automl_dummy_grain_col 4488.99    0.00    32.44   \n2 2017-02-01 02:00:00  _automl_dummy_grain_col 4655.26    0.00    33.19   \n3 2017-02-01 03:00:00  _automl_dummy_grain_col 4800.96    0.00    33.61   \n4 2017-02-01 04:00:00  _automl_dummy_grain_col 4838.74    0.00    32.30   \n\n   demand  \n0 5090.62  \n1 4839.25  \n2 4702.52  \n3 4629.94  \n4 4653.38  "
          },
          "metadata": {}
        }
      ]
    },
    {
      "metadata": {
        "ExecuteTime": {
          "start_time": "2019-06-24T21:32:53.109624Z",
          "end_time": "2019-06-24T21:32:53.555219Z"
        },
        "trusted": true
      },
      "cell_type": "code",
      "source": "print(\"Simple forecasting model\")\nrmse = np.sqrt(mean_squared_error(df_all[target_column_name], df_all['predicted']))\n\nprint(\"[Test Data] \\nRoot Mean squared error: %.2f\" % rmse)\nmae = mean_absolute_error(df_all[target_column_name], df_all['predicted'])\n\nprint('mean_absolute_error score: %.2f' % mae)\nprint('MAPE: %.2f' % MAPE(df_all[target_column_name], df_all['predicted']))\n\n# Plot outputs\n# %matplotlib notebook\ntest_pred = plt.scatter(df_all[target_column_name], df_all['predicted'], color='b')\ntest_test = plt.scatter(y_test, y_test, color='g')\nplt.legend((test_pred, test_test), ('prediction', 'truth'), loc='upper left', fontsize=8)\nplt.show()",
      "execution_count": 81,
      "outputs": [
        {
          "output_type": "stream",
          "text": "Simple forecasting model\n[Test Data] \nRoot Mean squared error: 1016.80\nmean_absolute_error score: 809.56\nMAPE: 14.02\n",
          "name": "stdout"
        },
        {
          "output_type": "display_data",
          "data": {
            "image/png": "[encoded data removed]",
            "text/plain": "<Figure size 432x288 with 1 Axes>"
          },
          "metadata": {
            "needs_background": "light"
          }
        }
      ]
    },
    {
      "metadata": {
        "trusted": true
      },
      "cell_type": "code",
      "source": "",
      "execution_count": null,
      "outputs": []
    }
  ],
  "metadata": {
    "kernelspec": {
      "name": "python36",
      "display_name": "Python 3.6",
      "language": "python"
    },
    "language_info": {
      "mimetype": "text/x-python",
      "nbconvert_exporter": "python",
      "name": "python",
      "pygments_lexer": "ipython3",
      "version": "3.6.6",
      "file_extension": ".py",
      "codemirror_mode": {
        "version": 3,
        "name": "ipython"
      }
    }
  },
  "nbformat": 4,
  "nbformat_minor": 2
}